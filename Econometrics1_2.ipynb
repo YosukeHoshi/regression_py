{
 "cells": [
  {
   "cell_type": "markdown",
   "metadata": {},
   "source": [
    "# 計量経済学の復習\n",
    "\n",
    "## Rで扱ったデータをpythonで分析する。\n",
    "### eco2.csvを読み込み、散布図の作成、重回帰分析の実行"
   ]
  },
  {
   "cell_type": "code",
   "execution_count": 30,
   "metadata": {},
   "outputs": [
    {
     "data": {
      "text/html": [
       "<div>\n",
       "<style>\n",
       "    .dataframe thead tr:only-child th {\n",
       "        text-align: right;\n",
       "    }\n",
       "\n",
       "    .dataframe thead th {\n",
       "        text-align: left;\n",
       "    }\n",
       "\n",
       "    .dataframe tbody tr th {\n",
       "        vertical-align: top;\n",
       "    }\n",
       "</style>\n",
       "<table border=\"1\" class=\"dataframe\">\n",
       "  <thead>\n",
       "    <tr style=\"text-align: right;\">\n",
       "      <th></th>\n",
       "      <th>i</th>\n",
       "      <th>y</th>\n",
       "      <th>x1</th>\n",
       "      <th>x2</th>\n",
       "    </tr>\n",
       "  </thead>\n",
       "  <tbody>\n",
       "    <tr>\n",
       "      <th>0</th>\n",
       "      <td>1.0</td>\n",
       "      <td>5.725920</td>\n",
       "      <td>2.001</td>\n",
       "      <td>39.7</td>\n",
       "    </tr>\n",
       "    <tr>\n",
       "      <th>1</th>\n",
       "      <td>2.0</td>\n",
       "      <td>5.836220</td>\n",
       "      <td>2.050</td>\n",
       "      <td>36.2</td>\n",
       "    </tr>\n",
       "    <tr>\n",
       "      <th>2</th>\n",
       "      <td>3.0</td>\n",
       "      <td>5.945922</td>\n",
       "      <td>2.010</td>\n",
       "      <td>32.8</td>\n",
       "    </tr>\n",
       "    <tr>\n",
       "      <th>3</th>\n",
       "      <td>4.0</td>\n",
       "      <td>6.055991</td>\n",
       "      <td>2.020</td>\n",
       "      <td>29.7</td>\n",
       "    </tr>\n",
       "    <tr>\n",
       "      <th>4</th>\n",
       "      <td>5.0</td>\n",
       "      <td>6.165410</td>\n",
       "      <td>2.050</td>\n",
       "      <td>27.0</td>\n",
       "    </tr>\n",
       "  </tbody>\n",
       "</table>\n",
       "</div>"
      ],
      "text/plain": [
       "     i         y     x1    x2\n",
       "0  1.0  5.725920  2.001  39.7\n",
       "1  2.0  5.836220  2.050  36.2\n",
       "2  3.0  5.945922  2.010  32.8\n",
       "3  4.0  6.055991  2.020  29.7\n",
       "4  5.0  6.165410  2.050  27.0"
      ]
     },
     "execution_count": 30,
     "metadata": {},
     "output_type": "execute_result"
    }
   ],
   "source": [
    "import pandas as pd\n",
    "import numpy as np\n",
    " \n",
    "eco = pd.read_csv(\"eco2.csv\", sep=\",\")\n",
    "\n",
    "eco_first = eco.drop('Unnamed: 4', axis=1)\n",
    "eco_new = eco_first.drop(55, axis=0)\n",
    "eco_new.head()"
   ]
  },
  {
   "cell_type": "code",
   "execution_count": 31,
   "metadata": {},
   "outputs": [
    {
     "name": "stdout",
     "output_type": "stream",
     "text": [
      "回帰係数: [-14.38917555  -0.1269904 ]\n",
      "切片: 38.2022471056\n",
      "決定係数: 0.751916984538\n"
     ]
    }
   ],
   "source": [
    "import matplotlib.pyplot as plt\n",
    "from sklearn import linear_model\n",
    "\n",
    "clf = linear_model.LinearRegression()\n",
    " \n",
    "# 説明変数に \"x1,x2\" を利用\n",
    "X = eco_new.loc[:, ['x1', 'x2']]\n",
    "\n",
    "# 目的変数に \"y\" を利用\n",
    "Y = eco_new['y']\n",
    " \n",
    "# 予測モデルを作成\n",
    "clf.fit(X, Y)\n",
    "# 回帰係数と切片の抽出\n",
    "a = clf.coef_\n",
    "b = clf.intercept_  \n",
    "# 回帰係数\n",
    "print(\"回帰係数:\", a)\n",
    "print(\"切片:\", b) \n",
    "print(\"決定係数:\", clf.score(X, Y))\n"
   ]
  },
  {
   "cell_type": "code",
   "execution_count": null,
   "metadata": {
    "collapsed": true
   },
   "outputs": [],
   "source": []
  }
 ],
 "metadata": {
  "kernelspec": {
   "display_name": "Python 3",
   "language": "python",
   "name": "python3"
  },
  "language_info": {
   "codemirror_mode": {
    "name": "ipython",
    "version": 3
   },
   "file_extension": ".py",
   "mimetype": "text/x-python",
   "name": "python",
   "nbconvert_exporter": "python",
   "pygments_lexer": "ipython3",
   "version": "3.6.3"
  }
 },
 "nbformat": 4,
 "nbformat_minor": 2
}

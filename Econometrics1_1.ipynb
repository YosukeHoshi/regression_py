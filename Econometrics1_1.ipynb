{
 "cells": [
  {
   "cell_type": "markdown",
   "metadata": {},
   "source": [
    "# 計量経済学の復習\n",
    "\n",
    "## Rで扱ったデータをpythonで分析する。\n",
    "\n",
    "### 1-1まずはじめに、eco1.csvを読み込み、散布図の作成、単回帰分析の実行\n",
    "*matplotlibのみ*"
   ]
  },
  {
   "cell_type": "code",
   "execution_count": 63,
   "metadata": {
    "scrolled": false
   },
   "outputs": [
    {
     "data": {
      "image/png": "[encoded data removed]",
      "text/plain": [
       "<matplotlib.figure.Figure at 0x1144ccf60>"
      ]
     },
     "metadata": {},
     "output_type": "display_data"
    }
   ],
   "source": [
    "import matplotlib.pyplot as plt\n",
    "\n",
    "data = pd.read_csv(\"eco1.csv\")\n",
    "data.describe()\n",
    "x = data['x1']\n",
    "y = data['y']\n",
    "\n",
    "plt.scatter(x, y)\n",
    "plt.title('Relationship between fertility rate and aging rate')\n",
    "plt.ylabel('Aging rate')\n",
    "plt.xlabel('The total fertility rate')\n",
    "\n",
    "np.polyfit(x, y, 1)\n",
    "np.poly1d(np.polyfit(x, y, 1))(x)\n",
    "plt.plot(x, np.poly1d(np.polyfit(x, y, 1))(x), label='d=1')\n",
    "\n",
    "plt.show()"
   ]
  },
  {
   "cell_type": "markdown",
   "metadata": {},
   "source": [
    "### 1-2pandasを用いてテーブルの整理からscikit-learnで統計量の表示および解析"
   ]
  },
  {
   "cell_type": "code",
   "execution_count": 64,
   "metadata": {},
   "outputs": [
    {
     "data": {
      "text/html": [
       "<div>\n",
       "<style>\n",
       "    .dataframe thead tr:only-child th {\n",
       "        text-align: right;\n",
       "    }\n",
       "\n",
       "    .dataframe thead th {\n",
       "        text-align: left;\n",
       "    }\n",
       "\n",
       "    .dataframe tbody tr th {\n",
       "        vertical-align: top;\n",
       "    }\n",
       "</style>\n",
       "<table border=\"1\" class=\"dataframe\">\n",
       "  <thead>\n",
       "    <tr style=\"text-align: right;\">\n",
       "      <th></th>\n",
       "      <th>i</th>\n",
       "      <th>y</th>\n",
       "      <th>x1</th>\n",
       "    </tr>\n",
       "  </thead>\n",
       "  <tbody>\n",
       "    <tr>\n",
       "      <th>0</th>\n",
       "      <td>1</td>\n",
       "      <td>5.725920</td>\n",
       "      <td>2.001</td>\n",
       "    </tr>\n",
       "    <tr>\n",
       "      <th>1</th>\n",
       "      <td>2</td>\n",
       "      <td>5.836220</td>\n",
       "      <td>2.050</td>\n",
       "    </tr>\n",
       "    <tr>\n",
       "      <th>2</th>\n",
       "      <td>3</td>\n",
       "      <td>5.945922</td>\n",
       "      <td>2.010</td>\n",
       "    </tr>\n",
       "    <tr>\n",
       "      <th>3</th>\n",
       "      <td>4</td>\n",
       "      <td>6.055991</td>\n",
       "      <td>2.020</td>\n",
       "    </tr>\n",
       "    <tr>\n",
       "      <th>4</th>\n",
       "      <td>5</td>\n",
       "      <td>6.165410</td>\n",
       "      <td>2.050</td>\n",
       "    </tr>\n",
       "  </tbody>\n",
       "</table>\n",
       "</div>"
      ],
      "text/plain": [
       "   i         y     x1\n",
       "0  1  5.725920  2.001\n",
       "1  2  5.836220  2.050\n",
       "2  3  5.945922  2.010\n",
       "3  4  6.055991  2.020\n",
       "4  5  6.165410  2.050"
      ]
     },
     "execution_count": 64,
     "metadata": {},
     "output_type": "execute_result"
    }
   ],
   "source": [
    "import pandas as pd\n",
    "import numpy as np\n",
    " \n",
    "eco = pd.read_csv(\"eco1.csv\", sep=\",\")\n",
    "eco.head()"
   ]
  },
  {
   "cell_type": "code",
   "execution_count": 65,
   "metadata": {
    "scrolled": false
   },
   "outputs": [
    {
     "name": "stdout",
     "output_type": "stream",
     "text": [
      "[-17.41998299]\n",
      "41.8861177734\n",
      "0.737466664554\n"
     ]
    }
   ],
   "source": [
    "# sklearn.linear_model.LinearRegression クラスを読み込み\n",
    "from sklearn import linear_model\n",
    "clf = linear_model.LinearRegression()\n",
    " \n",
    "# 説明変数に \"x1\" を利用\n",
    "X = eco.loc[:, ['x1']].as_matrix()\n",
    " \n",
    "# 目的変数に \"y\" を利用\n",
    "Y = eco['y'].as_matrix()\n",
    " \n",
    "# 予測モデルを作成\n",
    "clf.fit(X, Y)\n",
    " \n",
    "# 回帰係数\n",
    "print(clf.coef_)\n",
    " \n",
    "# 切片 (誤差)\n",
    "print(clf.intercept_)\n",
    " \n",
    "# 決定係数\n",
    "print(clf.score(X, Y))\n"
   ]
  },
  {
   "cell_type": "code",
   "execution_count": 68,
   "metadata": {},
   "outputs": [
    {
     "data": {
      "image/png": "[encoded data removed]",
      "text/plain": [
       "<matplotlib.figure.Figure at 0x10ea3e518>"
      ]
     },
     "metadata": {},
     "output_type": "display_data"
    }
   ],
   "source": [
    "# 散布図\n",
    "plt.scatter(X, Y)\n",
    "\n",
    "plt.title('Relationship between fertility rate and aging rate')\n",
    "plt.ylabel('Aging rate')\n",
    "plt.xlabel('The total fertility rate')\n",
    " \n",
    "# 回帰直線\n",
    "plt.plot(X, clf.predict(X))\n",
    "\n",
    "plt.show()"
   ]
  },
  {
   "cell_type": "markdown",
   "metadata": {},
   "source": [
    "## 1-2のまとめ"
   ]
  },
  {
   "cell_type": "code",
   "execution_count": 4,
   "metadata": {},
   "outputs": [
    {
     "name": "stdout",
     "output_type": "stream",
     "text": [
      "回帰係数: [-17.41998299]\n",
      "切片: 41.8861177734\n",
      "決定係数: 0.737466664554\n"
     ]
    },
    {
     "data": {
      "image/png": "[encoded data removed]",
      "text/plain": [
       "<matplotlib.figure.Figure at 0x1a1cb69080>"
      ]
     },
     "metadata": {},
     "output_type": "display_data"
    }
   ],
   "source": [
    "import pandas as pd\n",
    "from sklearn import linear_model\n",
    "import matplotlib.pyplot as plt\n",
    "    \n",
    "eco = pd.read_csv(\"eco1.csv\", sep=\",\")\n",
    "eco.head()\n",
    "\n",
    "clf = linear_model.LinearRegression()\n",
    " \n",
    "X = eco.loc[:, ['x1']].as_matrix()\n",
    "Y = eco['y'].as_matrix()\n",
    " \n",
    "clf.fit(X, Y)\n",
    " \n",
    "print('回帰係数:', clf.coef_)\n",
    "print('切片:', clf.intercept_)\n",
    "print('決定係数:', clf.score(X, Y))\n",
    "\n",
    "plt.scatter(X, Y)\n",
    "plt.title('Relationship between fertility rate and aging rate')\n",
    "plt.ylabel('Aging rate')\n",
    "plt.xlabel('The total fertility rate')\n",
    " \n",
    "plt.plot(X, clf.predict(X))\n",
    "\n",
    "plt.show()"
   ]
  },
  {
   "cell_type": "code",
   "execution_count": null,
   "metadata": {
    "collapsed": true
   },
   "outputs": [],
   "source": []
  }
 ],
 "metadata": {
  "kernelspec": {
   "display_name": "Python 3",
   "language": "python",
   "name": "python3"
  },
  "language_info": {
   "codemirror_mode": {
    "name": "ipython",
    "version": 3
   },
   "file_extension": ".py",
   "mimetype": "text/x-python",
   "name": "python",
   "nbconvert_exporter": "python",
   "pygments_lexer": "ipython3",
   "version": "3.6.3"
  }
 },
 "nbformat": 4,
 "nbformat_minor": 2
}
